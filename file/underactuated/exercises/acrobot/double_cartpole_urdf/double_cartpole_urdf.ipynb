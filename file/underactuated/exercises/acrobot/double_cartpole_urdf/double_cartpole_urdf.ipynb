{
 "nbformat": 4,
 "nbformat_minor": 0,
 "metadata": {
  "colab": {
   "name": "double_cartpole_urdf.ipynb",
   "provenance": []
  },
  "kernelspec": {
   "name": "python3",
   "display_name": "Python 3"
  }
 },
 "cells": [
  {
   "cell_type": "markdown",
   "metadata": {
    "id": "delKsukk5M10"
   },
   "source": [
    "## Notebook Setup \r\n",
    "The following cell will install Drake, checkout the underactuated repository, and set up the path (only if necessary).\r\n",
    "- On Google's Colaboratory, this **will take approximately two minutes** on the first time it runs (to provision the machine), but should only need to reinstall once every 12 hours.  Colab will ask you to \"Reset all runtimes\"; say no to save yourself the reinstall.\r\n",
    "- On Binder, the machines should already be provisioned by the time you can run this; it should return (almost) instantly.\r\n",
    "\r\n",
    "More details are available [here](http://underactuated.mit.edu/drake.html)."
   ]
  },
  {
   "cell_type": "code",
   "metadata": {
    "id": "W9WJUZ8Y5IaZ"
   },
   "source": [
    "import importlib\r\n",
    "import sys\r\n",
    "from urllib.request import urlretrieve\r\n",
    "\r\n",
    "# Install drake (and underactuated).\r\n",
    "if 'google.colab' in sys.modules and importlib.util.find_spec('underactuated') is None:\r\n",
    "    urlretrieve(f\"http://underactuated.csail.mit.edu/scripts/setup/setup_underactuated_colab.py\",\r\n",
    "                \"setup_underactuated_colab.py\")\r\n",
    "    from setup_underactuated_colab import setup_underactuated\r\n",
    "    setup_underactuated(underactuated_sha='560c2adace05eb20ebd78377582015d5b2d3859a', drake_version='0.27.0', drake_build='release')\r\n",
    "\r\n",
    "# Setup matplotlib.\r\n",
    "from IPython import get_ipython\r\n",
    "if get_ipython() is not None: get_ipython().run_line_magic(\"matplotlib\", \"inline\")"
   ],
   "execution_count": null,
   "outputs": []
  },
  {
   "cell_type": "code",
   "metadata": {
    "id": "kgxkJI975MMw"
   },
   "source": [
    "# python libraries\r\n",
    "import numpy as np\r\n",
    "from IPython.display import HTML, display\r\n",
    "\r\n",
    "# underactuated imports\r\n",
    "from underactuated import FindResource"
   ],
   "execution_count": null,
   "outputs": []
  },
  {
   "cell_type": "markdown",
   "metadata": {
    "id": "azmhAV3cl3ke"
   },
   "source": [
    "## Problem Description\r\n",
    "URDF (Unified Robot Description Format) is one of the most widely used formats to describe the geometry of robots. They are represented in XML and can be stored in strings as we will do later. In this problem, we will build a double pendulum cartpole using the single pendulum cartpole described in [Section 3.2](http://underactuated.csail.mit.edu/acrobot.html#cart_pole) of the textbook as a base to understand the construction of a basic URDF then modify the system into a double pendulum cartpole. We will then wire up an LQR controller and simulate the cart-pole and perform a new series of balancing tasks."
   ]
  },
  {
   "cell_type": "code",
   "metadata": {
    "id": "KeQQwU7R5Vz4"
   },
   "source": [
    "# pydrake imports\r\n",
    "from pydrake.all import (AddMultibodyPlantSceneGraph, DiagramBuilder,\r\n",
    "                         LinearQuadraticRegulator, Parser,\r\n",
    "                         PlanarSceneGraphVisualizer, Simulator, Linearize)"
   ],
   "execution_count": null,
   "outputs": []
  },
  {
   "cell_type": "markdown",
   "metadata": {
    "id": "o0iy7vgl2IxT"
   },
   "source": [
    "The simple URDFs we will be make today consist of three major components:\r\n",
    "1.   **Links**: inertial and visual information for each link\r\n",
    "2.   **Joints**: the connection between links\r\n",
    "3.   **Transmissions**: control inputs to joints\r\n",
    "\r\n",
    "We will go over each of these three in detail to construct the single pendulum cart-pole from the text with a slight twist.\r\n",
    "\r\n",
    "A link component here has three parts: the name (used to identify the link), the inertial (used to define the mass and  center of mass of the link), and the visual (used for displaying representative images). \r\n",
    "\r\n",
    "**Note**: For the sake of this problem, we consider x to be the horizontal direction and z to be the vertical direction. \r\n",
    "\r\n",
    "Below you will find the first link, which will represent the base cart. You can see we define it to have a mass of 1. and a COM of (0., 0., -1.). The visuals consist of a box for the body of the cart and two spheres for the wheels with their positions set relative to the link's origin.\r\n"
   ]
  },
  {
   "cell_type": "code",
   "metadata": {
    "id": "l8A8KG3k5RYQ"
   },
   "source": [
    "# DO NOT MODIFY\n",
    "base_urdf = \"\"\"\n",
    "  <link name=\"base\">\n",
    "    <inertial>\n",
    "      <origin xyz=\"0 0 0\" />\n",
    "      <mass value=\"1\" />\n",
    "    </inertial>\n",
    "\n",
    "    <visual>\n",
    "      <origin xyz=\"0 0 0\" />\n",
    "      <geometry>\n",
    "        <box size=\".5 .2 .2\" />\n",
    "      </geometry>\n",
    "      <material>\n",
    "        <color rgba=\"0 1 0 1\" />\n",
    "      </material>\n",
    "    </visual>\n",
    "\n",
    "    <visual>\n",
    "      <origin xyz=\".15 0 -.15\" rpy=\"0 0 0\" />\n",
    "      <geometry>\n",
    "        <sphere radius=\".05\" />\n",
    "      </geometry>\n",
    "      <material>\n",
    "        <color rgba=\"0 0 0 1\" />\n",
    "      </material>\n",
    "    </visual>\n",
    "    \n",
    "    <visual>\n",
    "      <origin xyz=\"-.15 0 -.15\" rpy=\"0 0 0\" />\n",
    "      <geometry>\n",
    "        <sphere radius=\".05\" />\n",
    "      </geometry>\n",
    "      <material>\n",
    "        <color rgba=\"0 0 0 1\" />\n",
    "      </material>\n",
    "    </visual>\n",
    "  </link>\n",
    "\"\"\""
   ],
   "execution_count": null,
   "outputs": []
  },
  {
   "cell_type": "markdown",
   "metadata": {
    "id": "az6CtFjCJtBu"
   },
   "source": [
    "Next we have a templated pendulum link. The pendulum is defined by a ball mass and a cylinder rod where the COM is at the ball mass. We will replace the placeholder text using a helper function later to programmatically add these links. It is worth noting now that origin of a link is relative to the origin of it's parent. So for the first link, the parent origin is the center of the cart."
   ]
  },
  {
   "cell_type": "code",
   "metadata": {
    "id": "fzbPJjFp931k"
   },
   "source": [
    "# DO NOT MODIFY\r\n",
    "pendulum_link = \"\"\" \r\n",
    "  <link name=\"pendulumNUMBER\">\r\n",
    "    <inertial>\r\n",
    "      <origin xyz=\"0 0 REPLACE\" />\r\n",
    "      <mass value=\"1\" />\r\n",
    "    </inertial>\r\n",
    "\r\n",
    "    <visual>\r\n",
    "      <origin xyz=\"0 0 REPLACE\" />\r\n",
    "      <geometry>\r\n",
    "         <sphere radius=\".05\" />\r\n",
    "      </geometry>\r\n",
    "      <material>\r\n",
    "        <color rgba=\"0 0 1 1\" />\r\n",
    "      </material>\r\n",
    "    </visual>\r\n",
    "\r\n",
    "    <visual>\r\n",
    "      <origin xyz=\"0 0 REPLACE\" />\r\n",
    "      <geometry>\r\n",
    "         <cylinder length=\"1\" radius=\".01\" />\r\n",
    "      </geometry>\r\n",
    "      <material>\r\n",
    "        <color rgba=\"1 0 0 1\" />\r\n",
    "      </material>\r\n",
    "    </visual>\r\n",
    "  </link>\r\n",
    "\"\"\""
   ],
   "execution_count": null,
   "outputs": []
  },
  {
   "cell_type": "markdown",
   "metadata": {
    "id": "vDRZe8EoKi1i"
   },
   "source": [
    "Now we move onto joints, which are used to connect links and define their behavior. The first joint we must consider is how the cart fits into the world, which is the root parent of our cart-pole system. Here we treat this as a sliding or prismatic joint as if the cart is moving on a fixed track in the x direction. "
   ]
  },
  {
   "cell_type": "code",
   "metadata": {
    "id": "AC03ewtVC-XP"
   },
   "source": [
    "# DO NOT MODIFY\r\n",
    "base_joint = \"\"\"\r\n",
    "  <joint name=\"x\" type=\"prismatic\">\r\n",
    "    <parent link=\"world\" />\r\n",
    "    <child link=\"base\" />\r\n",
    "    <axis xyz=\"1 0 0\" />\r\n",
    "  </joint>\r\n",
    "\"\"\""
   ],
   "execution_count": null,
   "outputs": []
  },
  {
   "cell_type": "markdown",
   "metadata": {
    "id": "8Uy06lbKK84b"
   },
   "source": [
    "The second joint to consider is for pendulum links connected to the cart base as well as other pendula. We will treat these as continuous joints allowing them to revolve around their parent origin. We will again programmatically replace the placeholder text later when we build the full URDF string."
   ]
  },
  {
   "cell_type": "code",
   "metadata": {
    "id": "GeMHp1IVDCTn"
   },
   "source": [
    "# DO NOT MODIFY\r\n",
    "pendulum_joint = \"\"\"\r\n",
    "  <joint name=\"thetaNUMBER\" type=\"continuous\">\r\n",
    "    <parent link=\"PARENT\" />\r\n",
    "    <child link=\"CHILD\" />\r\n",
    "    <axis xyz=\"0 -1 0\" />\r\n",
    "    <origin xyz=\"0 0 REPLACE\"/>\r\n",
    "  </joint>\r\n",
    "\"\"\""
   ],
   "execution_count": null,
   "outputs": []
  },
  {
   "cell_type": "markdown",
   "metadata": {
    "id": "FJvJ0zDDLj1k"
   },
   "source": [
    "Lastly, we come to the transmission component. Here the only controlled input is a force applied in the x direction on the cart base. "
   ]
  },
  {
   "cell_type": "code",
   "metadata": {
    "id": "JupsWEUeDKG8"
   },
   "source": [
    "# DO NOT MODIFY\r\n",
    "transmission = \"\"\"\r\n",
    "  <transmission type=\"SimpleTransmission\" name=\"base_force\">\r\n",
    "    <actuator name=\"force\" />\r\n",
    "    <joint name=\"x\" />\r\n",
    "  </transmission>\r\n",
    "\"\"\""
   ],
   "execution_count": null,
   "outputs": []
  },
  {
   "cell_type": "markdown",
   "metadata": {
    "id": "5YcidMt3L6C9"
   },
   "source": [
    "Now we have all the components necessary to construct a URDF for the cart-pole. Below you will find a helper function we will use to do so programmatically. The function takes as input a list of parameters for each pendulum link. For our first test, we will only pass a single list to construct a single pendulum.\r\n",
    "\r\n",
    "Each list contains two paramters: the first is the vertical location of the COM of the ball mass of the pendulum (positive or negative) and the second is origin point for the joint connecting the pendulum to its parent link. \r\n",
    "\r\n",
    "For example we will construct and run LQR on the cart-pole as defined in the text, where the ball mass is located -1. below the cart (so that $\\theta = 0 $ is the stable equilibrium below the cart $\\theta = \\pi$ is the unstable equilibrium above. The joint origin is thus 0 as the base of the pendula is at the center of the cart."
   ]
  },
  {
   "cell_type": "code",
   "metadata": {
    "id": "9ZNhVKax4AiH"
   },
   "source": [
    "# function that builds a urdf string with the variable number of pendula\r\n",
    "# input is a list for the number of pendula consisting each of a list\r\n",
    "# of parameters for the vertical distance from the parent origin\r\n",
    "# and the joint origin to the parent\r\n",
    "def create_cartpole_urdf(parameters):\r\n",
    "  \r\n",
    "  # urdf header and ender\r\n",
    "  urdf = \"\"\"<?xml version=\"1.0\"?>\\n<robot name=\"DoubleCartPole\">BASE</robot>\"\"\"\r\n",
    "  # cart base of the robot\r\n",
    "  urdf = urdf.replace(\"BASE\", base_urdf + \"LINK\")\r\n",
    "  \r\n",
    "  # add pendula links\r\n",
    "  for number in range(0,len(parameters)):\r\n",
    "    urdf = urdf.replace(\"LINK\", pendulum_link.replace(\"NUMBER\", str(number)).replace(\"REPLACE\", str(parameters[number][0]), 2).replace(\"REPLACE\", str(parameters[number][0]*.5)) + \"LINK\")\r\n",
    "  urdf = urdf.replace(\"LINK\", base_joint + \"JOINT\")\r\n",
    "\r\n",
    "  # add the joints starting with base\r\n",
    "  parent = \"base\"\r\n",
    "  for number in range(0,len(parameters)):\r\n",
    "    urdf = urdf.replace(\"JOINT\", pendulum_joint.replace(\"NUMBER\", str(number)).replace(\"PARENT\", parent).replace(\"CHILD\", \"pendulum\"+str(number)).replace(\"REPLACE\", str(parameters[number][1])) + \"JOINT\")\r\n",
    "    parent = \"pendulum\" + str(number)\r\n",
    "\r\n",
    "  # add the transmission for the cart base\r\n",
    "  urdf = urdf.replace(\"JOINT\", transmission)\r\n",
    "\r\n",
    "  return urdf"
   ],
   "execution_count": null,
   "outputs": []
  },
  {
   "cell_type": "markdown",
   "metadata": {
    "id": "Eg-oa4-PO0F5"
   },
   "source": [
    "For the single pendulum cart-pole we define the unstable equilibrium to be $\\theta = \\pi$ and $Q$ and $R$ to be identity matrices. We also define the URDF parameters to be **[link_COM_height, joint_origin_height]** which for the single pendulum will be **-1.** and **0.** respectively."
   ]
  },
  {
   "cell_type": "code",
   "metadata": {
    "id": "TNSMRznm5r4a"
   },
   "source": [
    "# unstable equilibrium point\r\n",
    "x_star = [0, np.pi, 0, 0]\r\n",
    "\r\n",
    "# weight matrices for the lqr controller*\r\n",
    "Q = np.diag((10., 10., 1., 1.))\r\n",
    "R = np.eye(1)\r\n",
    "\r\n",
    "# construct the parameters for a URDF of single pendulum cart-pole\r\n",
    "def get_single_pendulum_urdf_parameters():\r\n",
    "  return [[.1, .1]] # modify here\r\n",
    "\r\n",
    "single_pendulum_cartpole_urdf = create_cartpole_urdf(get_single_pendulum_urdf_parameters())\r\n",
    "\r\n",
    "# verify the urdf file output\r\n",
    "print(single_pendulum_cartpole_urdf)"
   ],
   "execution_count": null,
   "outputs": []
  },
  {
   "cell_type": "markdown",
   "metadata": {
    "id": "5aM9fqmXQ1ZE"
   },
   "source": [
    "Now that we've successfully constructed a URDF file, we can add it to LQR and run our robot!"
   ]
  },
  {
   "cell_type": "code",
   "metadata": {
    "id": "sQjc9vRI5tzg"
   },
   "source": [
    "# start construction site of our block diagram\r\n",
    "builder = DiagramBuilder()\r\n",
    "\r\n",
    "# instantiate the cart-pole and the scene graph\r\n",
    "cartpole, scene_graph = AddMultibodyPlantSceneGraph(builder, time_step=0.0)\r\n",
    "Parser(cartpole).AddModelFromString(single_pendulum_cartpole_urdf, \"urdf\")\r\n",
    "cartpole.Finalize()\r\n",
    "\r\n",
    "# set the operating point (vertical unstable equilibrium)\r\n",
    "context = cartpole.CreateDefaultContext()\r\n",
    "context.get_mutable_continuous_state_vector().SetFromVector(x_star)\r\n",
    "\r\n",
    "# fix the input port to zero and get its index for the lqr function\r\n",
    "cartpole.get_actuation_input_port().FixValue(context, [0])\r\n",
    "input_i = cartpole.get_actuation_input_port().get_index()\r\n",
    "\r\n",
    "# synthesize lqr controller directly from\r\n",
    "# the nonlinear system and the operating point\r\n",
    "lqr = LinearQuadraticRegulator(cartpole, context, Q, R, input_port_index=input_i)\r\n",
    "lqr = builder.AddSystem(lqr)\r\n",
    "\r\n",
    "# the following two lines are not needed here...\r\n",
    "output_i = cartpole.get_state_output_port().get_index()\r\n",
    "cartpole_lin = Linearize(cartpole, context, input_port_index=input_i, output_port_index=output_i)\r\n",
    "\r\n",
    "# wire cart-pole and lqr\r\n",
    "builder.Connect(cartpole.get_state_output_port(), lqr.get_input_port(0))\r\n",
    "builder.Connect(lqr.get_output_port(0), cartpole.get_actuation_input_port())\r\n",
    "\r\n",
    "# add a visualizer and wire it\r\n",
    "visualizer = builder.AddSystem(\r\n",
    "    PlanarSceneGraphVisualizer(scene_graph, xlim=[-3., 3.], ylim=[-.4, 3.], show=False)\r\n",
    ")\r\n",
    "builder.Connect(scene_graph.get_pose_bundle_output_port(), visualizer.get_input_port(0))\r\n",
    "\r\n",
    "# finish building the block diagram\r\n",
    "diagram = builder.Build()\r\n",
    "\r\n",
    "# instantiate a simulator\r\n",
    "simulator = Simulator(diagram)\r\n",
    "simulator.set_publish_every_time_step(False) # makes sim faster"
   ],
   "execution_count": null,
   "outputs": []
  },
  {
   "cell_type": "code",
   "metadata": {
    "id": "qdxALK-k8e9S"
   },
   "source": [
    "# function that given the cart-pole initial state\r\n",
    "# and the simulation time, simulates the system\r\n",
    "# and produces a video\r\n",
    "def simulate_and_animate(x0, sim_time=5):\r\n",
    "    \r\n",
    "    # start recording the video for the animation of the simulation\r\n",
    "    visualizer.start_recording()\r\n",
    "    \r\n",
    "    # reset initial time and state\r\n",
    "    context = simulator.get_mutable_context()\r\n",
    "    context.SetTime(0.)\r\n",
    "    context.SetContinuousState(x0)\r\n",
    "    \r\n",
    "    # run sim\r\n",
    "    simulator.Initialize()\r\n",
    "    simulator.AdvanceTo(sim_time)\r\n",
    "    \r\n",
    "    # stop video\r\n",
    "    visualizer.stop_recording()\r\n",
    "    \r\n",
    "    # construct animation\r\n",
    "    ani = visualizer.get_recording_as_animation()\r\n",
    "    \r\n",
    "    # display animation below the cell\r\n",
    "    display(HTML(ani.to_jshtml()))\r\n",
    "    \r\n",
    "    # reset to empty video\r\n",
    "    visualizer.reset_recording()"
   ],
   "execution_count": null,
   "outputs": []
  },
  {
   "cell_type": "code",
   "metadata": {
    "id": "UiQmTjhI8j3S"
   },
   "source": [
    "# simulate and animate the cart\r\n",
    "simulate_and_animate(np.array([0, 0.9*np.pi, 0, 0]))"
   ],
   "execution_count": null,
   "outputs": []
  },
  {
   "cell_type": "markdown",
   "metadata": {
    "id": "PpX0_1P3TF2K"
   },
   "source": [
    "Now that we've managed to create the URDF for the single pendulum cart-pole, we have all the tools to make a multi-pendulum cart-pole. For this problem, we will construct a double pendulum cart-pole.\r\n",
    "\r\n",
    "Using the same helper function we can create a list of parameter lists for as many pendula as we would like to add. Consider now where the second pendulum will be situated relative to its parent the first pendulum and how its joint will be positioned. Drawing a sketch is a helpful strategy for working your head around how the links and joints will situate with each other.\r\n",
    "\r\n",
    "**Note:** For the first pendulum, $\\theta = 0$ is considered to be the stable downward equilibrium because it is defined in the **-z** direction relative to the base cart's origin. For the second pendulum, we will be relative to the first pendulum's reference direction, which \r\n",
    "\r\n",
    "However, we will make one crucial change to the single-pendulum cart-pole. Previously we considered $\\theta = 0$ to be the downward stable equilibrium, now however we will switch $\\theta = 0$ to be the unstable equilibrium so that all pendulum consider that direction to be the same $\\theta$. This is because the position of the links are relative to each other, so any successive pendula past the first will have its $\\theta = 0$ set to be colinear to the first pendulum. This will nicely clean up our system and challenge you to think about how to change the URDF parameters to make this change. \r\n",
    "\r\n",
    "All values for both pendula should be {-1., 0., 1.} inclusive."
   ]
  },
  {
   "cell_type": "code",
   "metadata": {
    "id": "GF4vWOeHVQty"
   },
   "source": [
    "# unstable equilibrium point\r\n",
    "x_star = [0, np.pi, np.pi, 0, 0, 0]\r\n",
    "\r\n",
    "# weight matrices for the lqr controller\r\n",
    "Q = np.diag((10., 10., 10., 1., 1., 1.))\r\n",
    "R = np.eye(1)\r\n",
    "\r\n",
    "# construct the parameters for a URDF of double pendulum cart-pole\r\n",
    "def get_double_pendulum_urdf_parameters():\r\n",
    "  return [[.1, .1], [.1 ,.1]] # modify here\r\n",
    "\r\n",
    "double_pendulum_cartpole_urdf = create_cartpole_urdf(get_double_pendulum_urdf_parameters())\r\n",
    "\r\n",
    "# verify the urdf file output\r\n",
    "print(double_pendulum_cartpole_urdf)"
   ],
   "execution_count": null,
   "outputs": []
  },
  {
   "cell_type": "code",
   "metadata": {
    "id": "I_Ac4dgBVgS6"
   },
   "source": [
    "builder = DiagramBuilder()\r\n",
    "\r\n",
    "cartpole, scene_graph = AddMultibodyPlantSceneGraph(builder, time_step=0.0)\r\n",
    "Parser(cartpole).AddModelFromString(double_pendulum_cartpole_urdf, \"urdf\")\r\n",
    "cartpole.Finalize()\r\n",
    "\r\n",
    "context = cartpole.CreateDefaultContext()\r\n",
    "context.get_mutable_continuous_state_vector().SetFromVector(x_star)\r\n",
    "cartpole.get_actuation_input_port().FixValue(context, [0])\r\n",
    "input_i = cartpole.get_actuation_input_port().get_index()\r\n",
    "lqr = LinearQuadraticRegulator(cartpole, context, Q, R, input_port_index=input_i)\r\n",
    "lqr = builder.AddSystem(lqr)\r\n",
    "output_i = cartpole.get_state_output_port().get_index()\r\n",
    "cartpole_lin = Linearize(cartpole, context, input_port_index=input_i, output_port_index=output_i)\r\n",
    "builder.Connect(cartpole.get_state_output_port(), lqr.get_input_port(0))\r\n",
    "builder.Connect(lqr.get_output_port(0), cartpole.get_actuation_input_port())\r\n",
    "\r\n",
    "visualizer = builder.AddSystem(\r\n",
    "    PlanarSceneGraphVisualizer(scene_graph, xlim=[-3., 3.], ylim=[-.4, 3], show=False)\r\n",
    ")\r\n",
    "builder.Connect(scene_graph.get_pose_bundle_output_port(), visualizer.get_input_port(0))\r\n",
    "diagram = builder.Build()\r\n",
    "\r\n",
    "simulator = Simulator(diagram)\r\n",
    "simulator.set_publish_every_time_step(False)\r\n",
    "\r\n",
    "def simulate_and_animate(x0, sim_time=5):\r\n",
    "    \r\n",
    "    # start recording the video for the animation of the simulation\r\n",
    "    visualizer.start_recording()\r\n",
    "    \r\n",
    "    # reset initial time and state\r\n",
    "    context = simulator.get_mutable_context()\r\n",
    "    context.SetTime(0.)\r\n",
    "    context.SetContinuousState(x0)\r\n",
    "    \r\n",
    "    # run sim\r\n",
    "    simulator.Initialize()\r\n",
    "    simulator.AdvanceTo(sim_time)\r\n",
    "    \r\n",
    "    # stop video\r\n",
    "    visualizer.stop_recording()\r\n",
    "    \r\n",
    "    # construct animation\r\n",
    "    ani = visualizer.get_recording_as_animation()\r\n",
    "    \r\n",
    "    # display animation below the cell\r\n",
    "    display(HTML(ani.to_jshtml()))\r\n",
    "    \r\n",
    "    # reset to empty video\r\n",
    "    visualizer.reset_recording()"
   ],
   "execution_count": null,
   "outputs": []
  },
  {
   "cell_type": "code",
   "metadata": {
    "id": "DYGPECGYVzwU"
   },
   "source": [
    "# simulate and animate the cart\r\n",
    "simulate_and_animate(np.array([-2, 0.96*np.pi, 0.93*np.pi, 0, 0, 0]))"
   ],
   "execution_count": null,
   "outputs": []
  },
  {
   "cell_type": "code",
   "metadata": {
    "id": "Kme4VJP2Y225"
   },
   "source": [
    "from underactuated.exercises.acrobot.double_cartpole_urdf.test_double_cartpole_urdf import TestDoubleCartPoleURDF\n",
    "from underactuated.exercises.grader import Grader\n",
    "Grader.grade_output([TestDoubleCartPoleURDF], [locals()], 'results.json')\n",
    "Grader.print_test_results('results.json')"
   ],
   "execution_count": null,
   "outputs": []
  }
 ]
}