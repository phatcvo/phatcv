{
 "cells": [
  {
   "cell_type": "markdown",
   "metadata": {
    "id": "N0wde7kW2CJ0"
   },
   "source": [
    "Welcome!  If you are new to Google Colab/Jupyter notebooks, you might take a look at [this notebook](https://colab.research.google.com/notebooks/basic_features_overview.ipynb) first.\n",
    "\n",
    "**I recommend you run the first code cell of this notebook immediately, to start provisioning drake on the cloud machine, then you can leave this window open as you [read the textbook](http://underactuated.csail.mit.edu/intro.html).**\n",
    "\n",
    "# Notebook Setup\n",
    "\n",
    "The following cell will:\n",
    "- on Colab (only), install Drake to `/opt/drake`, install Drake's prerequisites via `apt`, and add pydrake to `sys.path`.  This will take approximately two minutes on the first time it runs (to provision the machine), but should only need to reinstall once every 12 hours.  If you navigate between notebooks using Colab's \"File->Open\" menu, then you can avoid provisioning a separate machine for each notebook.\n",
    "- import packages used throughout the notebook.\n",
    "\n",
    "You will need to rerun this cell if you restart the kernel, but it should be fast (even on Colab) because the machine will already have drake installed."
   ]
  },
  {
   "cell_type": "code",
   "execution_count": null,
   "metadata": {
    "id": "PBhjzZEOLubw"
   },
   "outputs": [],
   "source": [
    "import importlib\n",
    "import sys\n",
    "from urllib.request import urlretrieve\n",
    "\n",
    "# Install drake (and underactuated).\n",
    "if 'google.colab' in sys.modules and importlib.util.find_spec('underactuated') is None:\n",
    "    urlretrieve(f\"http://underactuated.csail.mit.edu/scripts/setup/setup_underactuated_colab.py\",\n",
    "                \"setup_underactuated_colab.py\")\n",
    "    from setup_underactuated_colab import setup_underactuated\n",
    "    setup_underactuated(underactuated_sha='560c2adace05eb20ebd78377582015d5b2d3859a', drake_version='0.25.0', drake_build='releases')\n",
    "\n",
    "# Imports.\n",
    "# python libraries\n",
    "import numpy as np\n",
    "import matplotlib.pyplot as plt\n",
    "import matplotlib.animation as animation\n",
    "import matplotlib.image as mpimg\n",
    "from matplotlib import rc\n",
    "rc('animation', html='jshtml')\n",
    "\n",
    "# pydrake imports\n",
    "from pydrake.all import DiagramBuilder, Variable, SymbolicVectorSystem, LogOutput, Simulator\n",
    "from pydrake.all import VectorSystem, BasicVector\n",
    "\n",
    "# underactuated imports\n",
    "from underactuated import plot_2d_phase_portrait, FindResource\n",
    "from underactuated.jupyter import running_as_notebook"
   ]
  },
  {
   "cell_type": "markdown",
   "metadata": {
    "id": "KrfWrOszQBTj"
   },
   "source": [
    "## Problem Description\n",
    "In this problem you will write the dynamics equation for the Hopfield network.\n",
    "At the end of the notebook, you will be able to check your work in test cases we set up for you.\n",
    "\n",
    "**These are the main steps of the exercise:**\n",
    "1. Write the function \"dynamics\" that defines the differential equation. _You need to write a piece of code to implement the system dynamics._\n",
    "\n",
    "2. Modify the system dynamics to memorize MNIST data. _You need to write a piece of code to modify the matrix $A$._\n",
    "\n",
    "\n",
    "### Question (a) - (c)\n",
    "\n",
    "Write the function for the dynamical system defined in the quesiton. This function should return the right-hand side of the dynamical equation: $$\\dot{x} = A^T\\,\\text{softmax}(\\beta\\, A\\, x) - x$$ Write the function to output $$A^T\\,\\text{softmax}(\\beta\\, A\\, x) - x$$ given the state $x$, matrix $A$, and scalar $\\beta$."
   ]
  },
  {
   "cell_type": "code",
   "execution_count": null,
   "metadata": {
    "id": "ousWBWX73GDh"
   },
   "outputs": [],
   "source": [
    "# We provide two helper functions: softmax and matrix-vector multiplication\n",
    "def softmax(x, beta = 1):\n",
    "  e_x = np.array([np.exp(beta*x[i]) for  i in range(len(x))])\n",
    "  return e_x / e_x.sum(axis = 0)\n",
    "\n",
    "def matrix_vector_multiplication(A, x):\n",
    "  return [sum(a*b for a,b in zip(A_row,x)) for A_row in A]\n",
    "\n",
    "def dynamics(x, A, beta):\n",
    "    \"\"\"outputs the right hand side of differential equation in Hopfield dynamical system.\n",
    "       use helper functions above for matrix vector multiplication and softmax function.\n",
    "\n",
    "    ARGUMENTS: x: list (length n) of numpy array\n",
    "               A: numpy array of size m by n\n",
    "               beta: scalar\n",
    "    RETURNS:   numpy array of size n\n",
    "    \"\"\"\n",
    "    ################### Your solution goes here #######################\n",
    "\n",
    "    return x # you need to modify this\n",
    "\n",
    "    ###################################################################\n"
   ]
  },
  {
   "cell_type": "markdown",
   "metadata": {
    "id": "C4WDb6VdQovY"
   },
   "source": [
    "\n",
    "The cell below should plot the phase portrait if the function dynamics(x, A, beta) is implemented correctly."
   ]
  },
  {
   "cell_type": "code",
   "execution_count": null,
   "metadata": {
    "id": "URTCCqT63cPJ"
   },
   "outputs": [],
   "source": [
    "A = np.array([[1,0],[0,1],[-1,-1]])\n",
    "beta = 5\n",
    "\n",
    "# initialize plot and make it big enough\n",
    "plt.figure(figsize=(10, 10))\n",
    "\n",
    "# plot the phase portrait of the 2d system\n",
    "plot_2d_phase_portrait((lambda x: dynamics(x, A, beta)), x1lim=[-2, 2], x2lim=[-2, 2], linewidth=1, density=2)"
   ]
  },
  {
   "cell_type": "markdown",
   "metadata": {
    "id": "GgzQay6pR2w6"
   },
   "source": [
    "### Question (d)\n",
    "In this question, we will modify the constant matrix $A$ to store a subset of the MNIST dataset. The MNIST dataset contains 28 by 28 images of hand-written numbers. Our objective is to restore the corrupted image using the training data. In the following cell, we load training data and corrupted images we want to restore.\n",
    "\n",
    "The variable `training_data` contains the four images that should be stored as the equilibriums to our dynamical system.\n",
    "\n",
    "The variable `corrupted_img` contains a set of corrupted images that are used as the initial conditions."
   ]
  },
  {
   "cell_type": "code",
   "execution_count": null,
   "metadata": {
    "id": "XhImd8aVZtv1"
   },
   "outputs": [],
   "source": [
    "# This data was obtained by taking images (0, 1, 4, 6) and (8, 34, 5),\n",
    "# respectively from the torchvision MNIST dataset:\n",
    "# import torchvision.datasets as datasets\n",
    "# mnist_trainset = datasets.MNIST(root='./data', train=True, download=True)\n",
    "# train = [np.array(mnist_trainset[k][0]) for k in [0, 1, 4, 5]]\n",
    "# test = [np.array(mnist_trainset[k][0]) for k in [8, 34, 5]]\n",
    "# np.savez(FindResource('exercises/pend/hopfield_network/mnist.npz'), train=train, test=test)\n",
    "\n",
    "data = np.load(FindResource('exercises/pend/hopfield_network/mnist.npz'))\n",
    "training_data = data['train']\n",
    "corrupted_img = data['test']\n",
    "\n",
    "for i, item in enumerate(corrupted_img):\n",
    "    corrupted_img[i][14:,:]=0\n",
    "\n",
    "print(\"Training Data\")\n",
    "fig, ax = plt.subplots(1, 4, sharex='col', sharey='row')\n",
    "for i, item in enumerate(training_data):\n",
    "    ax[i].imshow(item,cmap='gray')\n",
    "plt.show()\n",
    "\n",
    "print(\"Corrupted Images\")\n",
    "fig, ax = plt.subplots(1, 3, sharex='col', sharey='row')\n",
    "for i, item in enumerate(corrupted_img):\n",
    "    ax[i].imshow(item,cmap='gray')\n",
    "plt.show()\n",
    "\n",
    "training_data = np.asarray(training_data)\n",
    "print(training_data.shape)"
   ]
  },
  {
   "cell_type": "markdown",
   "metadata": {
    "id": "jhMLBRmqWmHG"
   },
   "source": [
    "If we could design the Hopfield network to store the training data as its equilbriums, we can simulate the dynamical system to restore the image from the corrupted image.\n",
    "\n",
    "\n",
    "Modify the matrix $A\\in\\mathbb{R}^{4\\times 784}$ to store four training data ($m=4$) in variable `training_data` to the equilibrium of the Hopfield network.\n",
    "\n",
    "Hint: We will vectorize the image to the state ($x\\in\\mathbb{R}^{784}$) and store training data to the equilibriums of our dynamical system.\n",
    "\n",
    "The data is currently provided as a 28 by 28 image ($\\mathbb{R}^{28\\times 28}$). First, modify the image data to a vector form, such that it is in the same format as the state $x\\in\\mathbb{R}^{784}$. Then, recall that the question (c) showed the relationship between the matrix $A$ and the equilibriums. Construct the matrix $A$ such that the dynamical system maps the training data set to the equilibrium."
   ]
  },
  {
   "cell_type": "code",
   "execution_count": null,
   "metadata": {
    "id": "gsDaCZAqyUrH"
   },
   "outputs": [],
   "source": [
    "x_image = training_data[0]\n",
    "x_state = training_data[0].reshape((-1))\n",
    "\n",
    "print(\"Training image has the shape \" + str(x_image.shape) + '.')\n",
    "print(\"The image can be represented as a vector of size \" + str(x_state.shape) + '.')"
   ]
  },
  {
   "cell_type": "code",
   "execution_count": null,
   "metadata": {
    "id": "s0h37TyVbyDH"
   },
   "outputs": [],
   "source": [
    "\n",
    "################### Your solution goes here ############################\n",
    "\n",
    "def calculate_A(training_data):\n",
    "    \"\"\"outputs the right hand side of differential equation in Hopfield dynamical system.\n",
    "\n",
    "    ARGUMENTS: training_data: a list of numpy array of arbitrary size (e.g., 28 by 28 for MNIST problem)\n",
    "    RETURNS:   numpy array of size m by n (e.g., 4 by 784 for MNIST problem)\n",
    "    \"\"\"\n",
    "\n",
    "    return np.zeros((len(training_data),training_data[0].size)) # you need to modify this\n",
    "\n",
    "#########################################################################\n",
    "\n",
    "A = calculate_A(training_data)\n",
    "beta = 1e-5\n"
   ]
  },
  {
   "cell_type": "markdown",
   "metadata": {
    "id": "UdG_LCZ4QaE0"
   },
   "source": [
    "## Drake Diagram\n",
    "We then construct a Drake diagram.\n",
    "This is nothing more than a set of interconnected dynamical systems (similiar to the Simulink idea, if you ever used it).\n",
    "Our diagram will be very simple: we just connect our dynamical system to a logger, which will measure and store the system state during the simulation (similar to the Simulink `To Workspace` block).\n",
    "\n",
    "Since the symbolic computation can be slow, we implement more advanced systems as a Python class."
   ]
  },
  {
   "cell_type": "code",
   "execution_count": null,
   "metadata": {
    "id": "hLJLnMXyesD9"
   },
   "outputs": [],
   "source": [
    "class HopfieldNet(VectorSystem):\n",
    "    def __init__(self, A, beta):\n",
    "        VectorSystem.__init__(self, 0, A.shape[1])\n",
    "        self.DeclareContinuousState(A.shape[1])\n",
    "        self.A = A\n",
    "        self.beta = beta\n",
    "\n",
    "    def DoCalcVectorTimeDerivatives(self, context, u, x, x_dot):\n",
    "        x_dot[:] = dynamics(x, self.A, self.beta)\n",
    "\n",
    "    def DoCalcVectorOutput(self, context, u, x, y):\n",
    "        y[:] = x\n",
    "\n",
    "\n",
    "# initialize builder of the diagram\n",
    "builder = DiagramBuilder()\n",
    "\n",
    "# add our dynamical system\n",
    "# (note: builder.AddSystem() returns a pointer to the system passed as input,\n",
    "# hence it is safe to assign the name \"system\" to its output)\n",
    "system = builder.AddSystem(HopfieldNet(A, beta))\n",
    "\n",
    "# logger block to measure and store the state\n",
    "# connected to the (first and only) output port of the dynamical system\n",
    "logger = LogOutput(system.get_output_port(0), builder)\n",
    "\n",
    "# finalize diagram\n",
    "diagram = builder.Build()"
   ]
  },
  {
   "cell_type": "markdown",
   "metadata": {
    "id": "3Xz-M1QUQedJ"
   },
   "source": [
    "## Simulation\n",
    "We are ready to simulate our dynamical system.\n",
    "To this end we just feed our diagram in a the Drake `Simulator` and `AdvanceTo` the desired time."
   ]
  },
  {
   "cell_type": "code",
   "execution_count": null,
   "metadata": {
    "id": "NrPFuRiyeyLy"
   },
   "outputs": [],
   "source": [
    "# function that given the initial state\n",
    "# and a simulation time returns the system trajectory\n",
    "def simulate(x, sim_time):\n",
    "\n",
    "    # clean the logger from old trajectories\n",
    "    logger.reset()\n",
    "\n",
    "    # set up the simulator\n",
    "    simulator = Simulator(diagram)\n",
    "\n",
    "    # set initial conditions\n",
    "    # (for now, think of \"context\" as a synonym of state)\n",
    "    context = simulator.get_mutable_context()\n",
    "    context.SetContinuousState(x)\n",
    "\n",
    "    # simulate from t=0 to t=sim_time\n",
    "    simulator.AdvanceTo(sim_time)\n",
    "\n",
    "    # return the output (here = state) trajectory\n",
    "    return logger.data()"
   ]
  },
  {
   "cell_type": "markdown",
   "metadata": {
    "id": "zDWHY7tZY1IZ"
   },
   "source": [
    "We can visualize the trajectory by converting the state format ($\\mathbb{R}^{28\\times 28}$) to an image format($\\mathbb{R}^{784}$)."
   ]
  },
  {
   "cell_type": "code",
   "execution_count": null,
   "metadata": {
    "id": "oMfs_WL1e4Bz"
   },
   "outputs": [],
   "source": [
    "# Visualize the simulated trajectories for corrupted image 1.\n",
    "if running_as_notebook:\n",
    "  simulation_time = 5\n",
    "else:\n",
    "  simulation_time = 0.01\n",
    "\n",
    "x_init = corrupted_img[0].reshape((-1))\n",
    "traj = simulate(x_init, simulation_time)\n",
    "\n",
    "fig = plt.figure(figsize=(6, 6))\n",
    "im = plt.imshow(traj.T[0].reshape(28,28),cmap='gray')\n",
    "\n",
    "def animate(i):\n",
    "    im.set_array(traj.T[i].reshape(28,28))\n",
    "    return im,\n",
    "\n",
    "# create animation using the animate() function\n",
    "myAnimation = animation.FuncAnimation(fig, animate, frames=range(len(traj.T)), interval=10, blit=True, repeat=True)\n",
    "\n",
    "plt.close()\n",
    "myAnimation"
   ]
  },
  {
   "cell_type": "code",
   "execution_count": null,
   "metadata": {
    "id": "nRDln7VXjFeh"
   },
   "outputs": [],
   "source": [
    "# Visualize the simulated trajectories for corrupted image 2.\n",
    "\n",
    "x_init = corrupted_img[1].reshape((-1))\n",
    "traj = simulate(x_init, simulation_time)\n",
    "\n",
    "fig = plt.figure(figsize=(6, 6))\n",
    "im = plt.imshow(traj.T[0].reshape(28,28),cmap='gray')\n",
    "\n",
    "def animate(i):\n",
    "    im.set_array(traj.T[i].reshape(28,28))\n",
    "    return im,\n",
    "\n",
    "# create animation using the animate() function\n",
    "myAnimation = animation.FuncAnimation(fig, animate, frames=range(len(traj.T)), interval=10, blit=True, repeat=True)\n",
    "\n",
    "plt.close()\n",
    "myAnimation"
   ]
  },
  {
   "cell_type": "code",
   "execution_count": null,
   "metadata": {
    "id": "I3tPCtvmPsql"
   },
   "outputs": [],
   "source": [
    "# Visualize the simulated trajectories for corrupted image 3.\n",
    "\n",
    "x_init = corrupted_img[2].reshape((-1))\n",
    "traj = simulate(x_init, simulation_time)\n",
    "\n",
    "fig = plt.figure(figsize=(6, 6))\n",
    "im = plt.imshow(traj.T[0].reshape(28,28),cmap='gray')\n",
    "\n",
    "def animate(i):\n",
    "    im.set_array(traj.T[i].reshape(28,28))\n",
    "    return im,\n",
    "\n",
    "# create animation using the animate() function\n",
    "myAnimation = animation.FuncAnimation(fig, animate, frames=range(len(traj.T)), interval=10, blit=True, repeat=True)\n",
    "\n",
    "plt.close()\n",
    "myAnimation"
   ]
  },
  {
   "cell_type": "markdown",
   "metadata": {
    "id": "ZBKNIXT9Bgod"
   },
   "source": [
    "## Fun Applications (Optional)\n",
    "\n",
    "In this section, we explore fun applications of Hopfield networks. You do not need to write any additional code for this section.\n",
    "\n",
    "For those of you who watched Pokemon, the viewers are asked to guess Pokemon names from its shadows.\n",
    "(For example, https://www.youtube.com/watch?v=an2j2IGS7us&ab_channel=SasukeiKun)\n",
    "\n",
    "We can also train Hopfield network to memorize Pokemons."
   ]
  },
  {
   "cell_type": "code",
   "execution_count": null,
   "metadata": {
    "id": "hhphJgjHuEu5"
   },
   "outputs": [],
   "source": [
    "urls = [\"https://upload.wikimedia.org/wikipedia/en/5/59/Pok%C3%A9mon_Squirtle_art.png\",\n",
    "       \"https://upload.wikimedia.org/wikipedia/en/a/a5/Pok%C3%A9mon_Charmander_art.png\",\n",
    "       \"https://upload.wikimedia.org/wikipedia/en/2/28/Pok%C3%A9mon_Bulbasaur_art.png\"]\n",
    "\n",
    "training_data = []\n",
    "query_data = []\n",
    "for url in urls:\n",
    "    file_name, _ = urlretrieve(url, \"test.png\")\n",
    "    img = mpimg.imread(file_name)\n",
    "    xx = np.linspace(0,img.shape[0]-1,80).astype(int)\n",
    "    yy = np.linspace(0,img.shape[1]-1,80).astype(int)\n",
    "    resized_img = img[xx,:,:][:,yy,:]\n",
    "    query_img = np.ones(resized_img.shape)\n",
    "    query_img[:,:,0] = (resized_img[...,:3].max(axis=2)<0.01)*0.\n",
    "    query_img[:,:,1] = (resized_img[...,:3].max(axis=2)<0.01)*0.\n",
    "    query_img[:,:,2] = (resized_img[...,:3].max(axis=2)<0.01)*0.\n",
    "    query_img[:,:,3] = resized_img[:,:,3]\n",
    "    training_data.append(resized_img)\n",
    "    query_data.append(query_img)\n",
    "\n",
    "print(\"Training Data\")\n",
    "fig, ax = plt.subplots(1, 3, sharex='col', sharey='row')\n",
    "for i, item in enumerate(training_data):\n",
    "    ax[i].imshow(item)\n",
    "plt.show()\n",
    "\n",
    "print(\"Guess who?\")\n",
    "fig, ax = plt.subplots(1, 3, sharex='col', sharey='row')\n",
    "for i, item in enumerate(query_data):\n",
    "    ax[i].imshow(item)\n",
    "plt.show()"
   ]
  },
  {
   "cell_type": "code",
   "execution_count": null,
   "metadata": {
    "id": "VzAMYp_tvI3f"
   },
   "outputs": [],
   "source": [
    "A_img = []\n",
    "for item in training_data:\n",
    "    A_img += [item.reshape((-1))]\n",
    "A = np.array(A_img)\n",
    "\n",
    "beta = 1e-3\n",
    "\n",
    "# initialize builder of the diagram\n",
    "builder = DiagramBuilder()\n",
    "\n",
    "# add our dynamical system\n",
    "# (note: builder.AddSystem() returns a pointer to the system passed as input,\n",
    "# hence it is safe to assign the name \"system\" to its output)\n",
    "system = builder.AddSystem(HopfieldNet(A, beta))\n",
    "\n",
    "# logger block to measure and store the state\n",
    "# connected to the (first and only) output port of the dynamical system\n",
    "logger = LogOutput(system.get_output_port(0), builder)\n",
    "\n",
    "# finalize diagram\n",
    "diagram = builder.Build()"
   ]
  },
  {
   "cell_type": "code",
   "execution_count": null,
   "metadata": {
    "id": "RPPnIaKxA9c4"
   },
   "outputs": [],
   "source": [
    "# function that given the initial state\n",
    "# and a simulation time returns the system trajectory\n",
    "def simulate(x, sim_time):\n",
    "\n",
    "    # clean the logger from old trajectories\n",
    "    logger.reset()\n",
    "\n",
    "    # set up the simulator\n",
    "    simulator = Simulator(diagram)\n",
    "\n",
    "    # set initial conditions\n",
    "    # (for now, think of \"context\" as a synonym of state)\n",
    "    context = simulator.get_mutable_context()\n",
    "    context.SetContinuousState(x)\n",
    "\n",
    "    # simulate from t=0 to t=sim_time\n",
    "    simulator.AdvanceTo(sim_time)\n",
    "\n",
    "    # return the output (here = state) trajectory\n",
    "    return logger.data()"
   ]
  },
  {
   "cell_type": "code",
   "execution_count": null,
   "metadata": {
    "id": "VarWTJr4DyFV"
   },
   "outputs": [],
   "source": [
    "# Visualize the simulated trajectories.\n",
    "x_init = query_data[0].reshape((-1))\n",
    "traj = simulate(x_init, simulation_time)\n",
    "\n",
    "fig = plt.figure(figsize=(6, 6))\n",
    "im = plt.imshow(traj.T[0].reshape(80, 80, 4))\n",
    "\n",
    "def animate(i):\n",
    "    im.set_array(traj.T[i].reshape(80, 80, 4))\n",
    "    return im,\n",
    "\n",
    "#create animation using the animate() function\n",
    "myAnimation = animation.FuncAnimation(fig, animate, frames=range(len(traj.T)), interval=50, blit=True, repeat=True)\n",
    "\n",
    "plt.close()\n",
    "myAnimation"
   ]
  },
  {
   "cell_type": "markdown",
   "metadata": {
    "id": "d--ZLH-ZCh1Y"
   },
   "source": [
    "## Autograding\n",
    "You can check your work by running the following cell:"
   ]
  },
  {
   "cell_type": "code",
   "execution_count": null,
   "metadata": {
    "id": "bzbgQIGc0Efn"
   },
   "outputs": [],
   "source": [
    "from underactuated.exercises.pend.hopfield_network.test_hopfield_network import TestHopfield\n",
    "from underactuated.exercises.grader import Grader\n",
    "Grader.grade_output([TestHopfield], [locals()], 'results.json')\n",
    "Grader.print_test_results('results.json')"
   ]
  },
  {
   "cell_type": "code",
   "execution_count": null,
   "metadata": {
    "id": "wCHOihWN3oNI"
   },
   "outputs": [],
   "source": []
  }
 ],
 "metadata": {
  "@webio": {
   "lastCommId": null,
   "lastKernelId": null
  },
  "celltoolbar": "Tags",
  "colab": {
   "collapsed_sections": [],
   "name": "hopfield_network.ipynb",
   "provenance": []
  },
  "kernelspec": {
   "display_name": "Python 3",
   "language": "python",
   "name": "python3"
  },
  "language_info": {
   "codemirror_mode": {
    "name": "ipython",
    "version": 3
   },
   "file_extension": ".py",
   "mimetype": "text/x-python",
   "name": "python",
   "nbconvert_exporter": "python",
   "pygments_lexer": "ipython3",
   "version": "3.7.4"
  }
 },
 "nbformat": 4,
 "nbformat_minor": 1
}