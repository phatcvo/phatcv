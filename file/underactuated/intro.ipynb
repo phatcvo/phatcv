{
 "cells": [
  {
   "cell_type": "markdown",
   "metadata": {
    "colab_type": "text",
    "id": "TKvYiJgnYExi"
   },
   "source": [
    "Welcome!  If you are new to Google Colab/Jupyter notebooks, you might take a look at [this notebook](https://colab.research.google.com/notebooks/basic_features_overview.ipynb) first.\n",
    "\n",
    "**I recommend you run the first code cell of this notebook immediately, to start provisioning drake on the cloud machine, then you can leave this window open as you [read the textbook](http://underactuated.csail.mit.edu/intro.html).**\n",
    "\n",
    "# Notebook Setup\n",
    "\n",
    "The following cell will:\n",
    "- on Colab (only), install Drake to `/opt/drake`, install Drake's prerequisites via `apt`, and add pydrake to `sys.path`.  This will take approximately two minutes on the first time it runs (to provision the machine), but should only need to reinstall once every 12 hours.  If you navigate between notebooks using Colab's \"File->Open\" menu, then you can avoid provisioning a separate machine for each notebook.\n",
    "- import packages used throughout the notebook.\n",
    "\n",
    "You will need to rerun this cell if you restart the kernel, but it should be fast (even on Colab) because the machine will already have drake installed."
   ]
  },
  {
   "cell_type": "code",
   "execution_count": null,
   "metadata": {
    "colab": {},
    "colab_type": "code",
    "id": "A4QOaw_zYLfI"
   },
   "outputs": [],
   "source": [
    "import importlib\n",
    "import sys\n",
    "from urllib.request import urlretrieve\n",
    "\n",
    "# Install drake (and underactuated).\n",
    "if 'google.colab' in sys.modules and importlib.util.find_spec('underactuated') is None:\n",
    "    urlretrieve(f\"http://underactuated.csail.mit.edu/scripts/setup/setup_underactuated_colab.py\",\n",
    "                \"setup_underactuated_colab.py\")\n",
    "    from setup_underactuated_colab import setup_underactuated\n",
    "    setup_underactuated(underactuated_sha='560c2adace05eb20ebd78377582015d5b2d3859a', drake_version='0.25.0', drake_build='releases')\n",
    "\n",
    "# Imports.\n",
    "import matplotlib.pyplot as plt\n",
    "import numpy as np\n",
    "import pydrake.all\n",
    "\n",
    "from pydrake.all import (AddMultibodyPlantSceneGraph, PlanarSceneGraphVisualizer)\n",
    "\n",
    "import underactuated\n",
    "from underactuated.jupyter import AdvanceToAndVisualize, SetupMatplotlibBackend"
   ]
  },
  {
   "cell_type": "code",
   "execution_count": null,
   "metadata": {},
   "outputs": [],
   "source": [
    "# For some mysterious reason, this needs to be run in a second cell for the change to persist.\n",
    "plt_is_interactive = SetupMatplotlibBackend(['notebook']) # Use 'inline' to force non-interactive."
   ]
  },
  {
   "cell_type": "markdown",
   "metadata": {
    "colab_type": "text",
    "id": "C1sdq2R88C16"
   },
   "source": [
    "# Dynamics of the Double Pendulum\n",
    "\n",
    "This first cell gives an example of how to run a simulation and animate the results.\n"
   ]
  },
  {
   "cell_type": "code",
   "execution_count": null,
   "metadata": {
    "colab": {},
    "colab_type": "code",
    "id": "8wj7ZlyEw_AB"
   },
   "outputs": [],
   "source": [
    "# Set up a block diagram with the robot (dynamics) and a visualization block.\n",
    "builder = pydrake.systems.framework.DiagramBuilder()\n",
    "plant, scene_graph = AddMultibodyPlantSceneGraph(builder, time_step=0.0)\n",
    "\n",
    "# Load the double pendulum from Universal Robot Description Format\n",
    "parser = pydrake.multibody.parsing.Parser(plant, scene_graph)\n",
    "parser.AddModelFromFile(underactuated.FindResource(\"models/double_pendulum.urdf\"))\n",
    "plant.Finalize()\n",
    "\n",
    "builder.ExportInput(plant.get_actuation_input_port())\n",
    "visualizer = builder.AddSystem(PlanarSceneGraphVisualizer(scene_graph,\n",
    "                                                          xlim=[-2.8, 2.8],\n",
    "                                                          ylim=[-2.8, 2.8],\n",
    "                                                          show=plt_is_interactive))\n",
    "builder.Connect(scene_graph.get_pose_bundle_output_port(),\n",
    "                visualizer.get_input_port(0))\n",
    "\n",
    "# The logger needs to be told to expect a 4-element input\n",
    "# (the 4-element double pendulum state, in this case).\n",
    "logger = builder.AddSystem(pydrake.systems.primitives.SignalLogger(4))\n",
    "logger.DeclarePeriodicPublish(0.033333, 0.0)\n",
    "builder.Connect(plant.get_state_output_port(), logger.get_input_port(0))\n",
    "\n",
    "diagram = builder.Build()\n",
    "\n",
    "# Set up a simulator to run this diagram\n",
    "simulator = pydrake.systems.analysis.Simulator(diagram)\n",
    "\n",
    "# Set the initial conditions\n",
    "context = simulator.get_mutable_context()\n",
    "context.SetContinuousState([1., 1., 0., 0.])  # (theta1, theta2, theta1dot, theta2dot)\n",
    "diagram.get_input_port(0).FixValue(context, [0.,0.])   # Zero input torques\n",
    "\n",
    "# Simulate and animate\n",
    "AdvanceToAndVisualize(simulator, visualizer, 10.0)\n"
   ]
  },
  {
   "cell_type": "code",
   "execution_count": null,
   "metadata": {},
   "outputs": [],
   "source": [
    "# Run this cell after running a simulation to plot traces\n",
    "# of the pendulum state across time.\n",
    "plt.figure()\n",
    "fields = [\"shoulder\", \"elbow\"]\n",
    "for i in range(2):\n",
    "    plt.subplot(2, 1, i+1)\n",
    "    plt.plot(logger.sample_times(), logger.data()[(i, i+2), :].transpose())\n",
    "    plt.legend([\"position\", \"velocity\"])\n",
    "    plt.xlabel('t')\n",
    "    plt.ylabel(fields[i])\n",
    "    plt.grid(True)\n",
    "    plt.show()"
   ]
  },
  {
   "cell_type": "markdown",
   "metadata": {},
   "source": [
    "It's worth taking a peek at the [file that describes the robot](https://github.com/RussTedrake/underactuated/blob/master/underactuated/models/double_pendulum.urdf). URDF and SDF are two of the standard formats, and they can be used to describe even very complicated robots (like the Boston Dynamics humanoid).\n",
    "\n",
    "## Inspecting the dynamics (the manipulator equations)\n",
    "\n",
    "We can also use Drake to evaluate the manipulator equations.  First we will evaluate the manipulator equations for a particular robot (with numerical values assigned for mass, link lengths, etc) and for a particular state of the robot.\n"
   ]
  },
  {
   "cell_type": "code",
   "execution_count": null,
   "metadata": {},
   "outputs": [],
   "source": [
    "\n",
    "plant = pydrake.multibody.plant.MultibodyPlant(time_step=0)\n",
    "parser = pydrake.multibody.parsing.Parser(plant)\n",
    "parser.AddModelFromFile(underactuated.FindResource(\"models/double_pendulum.urdf\"))\n",
    "plant.Finalize()\n",
    "\n",
    "# Evaluate the dynamics numerically\n",
    "q = [0.1, 0.1]\n",
    "v = [1, 1]\n",
    "(M, Cv, tauG, B, tauExt) = underactuated.ManipulatorDynamics(plant, q, v)\n",
    "print(\"M = \\n\" + str(M))\n",
    "print(\"Cv = \" + str(Cv))\n",
    "print(\"tau_G = \" + str(tauG))\n",
    "print(\"B = \" + str(B))\n",
    "print(\"tau_ext = \" + str(tauExt))"
   ]
  },
  {
   "cell_type": "markdown",
   "metadata": {},
   "source": [
    "Drake is also fairly unique in supporting symbolic computation (with floating point coefficients).  Here is an example of printing out the symbolic dynamics of the double pendulum.  (If you've ever written out the equations of your robot, you know they get complicated quickly!)"
   ]
  },
  {
   "cell_type": "code",
   "execution_count": null,
   "metadata": {},
   "outputs": [],
   "source": [
    "from pydrake.all import Variable\n",
    "\n",
    "# Evaluate the dynamics symbolically\n",
    "q = [Variable(\"theta0\"), Variable(\"theta1\")]\n",
    "v = [Variable(\"thetadot0\"), Variable(\"thetadot1\")]\n",
    "(M, Cv, tauG, B, tauExt) = underactuated.ManipulatorDynamics(plant.ToSymbolic(), q, v)\n",
    "print(\"M = \\n\" + str(M))\n",
    "print(\"Cv = \" + str(Cv))\n",
    "print(\"tau_G = \" + str(tauG))\n",
    "print(\"B = \" + str(B))\n",
    "print(\"tau_ext = \" + str(tauExt))"
   ]
  },
  {
   "cell_type": "markdown",
   "metadata": {},
   "source": [
    "We use a similar mechanisms to support automatic differentiation; we'll see examples of that soon!"
   ]
  },
  {
   "cell_type": "markdown",
   "metadata": {},
   "source": [
    "# Feedback Cancellation of the Double Pendulum\n",
    "\n",
    "Let's say that we would like our simple double pendulum to act like a\n",
    "simple single pendulum (with damping), whose dynamics are given by:\n",
    "\\begin{align*} \\ddot \\theta_1 &= -\\frac{g}{l}\\sin\\theta_1 -b\\dot\\theta_1 \\\\\n",
    "\\ddot\\theta_2 &= 0. \\end{align*} This is easily achieved using\n",
    "(Note that our chosen dynamics do not actually stabilize $\\theta_2$ -- this detail was left out for clarity, but would be necessary for any real\n",
    "implementation.) $${\\bf u}  = {\\bf B}^{-1}\\left[ {\\bf C}\\dot{{\\bf q}} - {\\bf \\tau}_g +\n",
    "{\\bf M}\\begin{bmatrix} -\\frac{g}{l}s_1 - b\\dot{q}_1 \\\\ 0 \\end{bmatrix}\n",
    "\\right].$$ \n",
    "\n",
    "Since we are embedding a nonlinear dynamics (not a linear one), we refer\n",
    "to this as \"feedback cancellation\", or \"dynamic inversion\".  This idea can,\n",
    "and does, make control look easy - for the special case of a fully-actuated\n",
    "deterministic system with known dynamics.  For example, it would have been\n",
    "just as easy for me to invert gravity. Observe that the control derivations\n",
    "here would not have been any more difficult if the robot had 100 joints.\n",
    "\n",
    "## Acting like a single pendulum\n",
    "\n",
    "First we implement our simple controller as a system that takes the pendulum state in, and outputs the motor torque."
   ]
  },
  {
   "cell_type": "code",
   "execution_count": null,
   "metadata": {},
   "outputs": [],
   "source": [
    "class Controller(pydrake.systems.framework.VectorSystem):\n",
    "    \"\"\"Defines a feedback controller for the double pendulum.\n",
    "\n",
    "    The controller applies torques at the joints in order to:\n",
    "\n",
    "    1) cancel out the dynamics of the double pendulum,\n",
    "    2) make the first joint swing with the dynamics of a single pendulum, and\n",
    "    3) drive the second joint towards zero.\n",
    "\n",
    "    The magnitude of gravity for the imposed single pendulum dynamics is taken\n",
    "    as a constructor argument.  So you can do fun things like pretending that\n",
    "    gravity is zero, or even inverting gravity!\n",
    "    \"\"\"\n",
    "\n",
    "    def __init__(self, multibody_plant, gravity):\n",
    "        # 4 inputs (double pend state), 2 torque outputs.\n",
    "        pydrake.systems.framework.VectorSystem.__init__(self, 4, 2)\n",
    "        self.plant = multibody_plant\n",
    "        self.g = gravity\n",
    "\n",
    "    def DoCalcVectorOutput(self, context, double_pend_state, unused, torque):\n",
    "        # Extract manipulator dynamics.\n",
    "        q = double_pend_state[:2]\n",
    "        v = double_pend_state[-2:]\n",
    "        (M, Cv, tauG, B, tauExt) = underactuated.ManipulatorDynamics(self.plant, q, v)\n",
    "\n",
    "        # Desired pendulum parameters.\n",
    "        length = 2.\n",
    "        b = .1\n",
    "\n",
    "        # Control gains for stabilizing the second joint.\n",
    "        kp = 1\n",
    "        kd = .1\n",
    "\n",
    "        # Cancel double pend dynamics and inject single pend dynamics.\n",
    "        torque[:] = Cv - tauG - tauExt + M.dot(\n",
    "            [self.g / length * np.sin(q[0]) - b * v[0], -kp * q[1] - kd * v[1]])\n",
    "\n",
    "\n",
    "def simulate(gravity=-9.8):      \n",
    "    builder = pydrake.systems.framework.DiagramBuilder()\n",
    "    plant, scene_graph = AddMultibodyPlantSceneGraph(builder, time_step=0.0)\n",
    "\n",
    "    # Load the double pendulum from Universal Robot Description Format\n",
    "    parser = pydrake.multibody.parsing.Parser(plant, scene_graph)\n",
    "    parser.AddModelFromFile(underactuated.FindResource(\"models/double_pendulum.urdf\"))\n",
    "    plant.Finalize()\n",
    "\n",
    "    controller = builder.AddSystem(Controller(plant, gravity))\n",
    "    builder.Connect(plant.get_state_output_port(), controller.get_input_port(0))\n",
    "    builder.Connect(controller.get_output_port(0), plant.get_actuation_input_port())\n",
    "\n",
    "    visualizer = builder.AddSystem(\n",
    "        PlanarSceneGraphVisualizer(scene_graph, xlim=[-2.8, 2.8], ylim=[-2.8, 2.8], \n",
    "                                   show=plt_is_interactive))\n",
    "    builder.Connect(scene_graph.get_pose_bundle_output_port(),\n",
    "                    visualizer.get_input_port(0))\n",
    "\n",
    "    diagram = builder.Build()\n",
    "\n",
    "    # Set up a simulator to run this diagram\n",
    "    simulator = pydrake.systems.analysis.Simulator(diagram)\n",
    "\n",
    "    # Set the initial conditions\n",
    "    context = simulator.get_mutable_context()\n",
    "    context.SetContinuousState((1., 0., 0.2, 0.))  # (θ₁, θ₂, θ̇₁, θ̇₂)\n",
    "\n",
    "    # Simulate\n",
    "    AdvanceToAndVisualize(simulator, visualizer, 3.0)"
   ]
  },
  {
   "cell_type": "markdown",
   "metadata": {},
   "source": [
    "If we simulate this system with the default parameters (gravity = -9.8m/s), then our double pendulum acts like a single pendulum."
   ]
  },
  {
   "cell_type": "code",
   "execution_count": null,
   "metadata": {},
   "outputs": [],
   "source": [
    "simulate()"
   ]
  },
  {
   "cell_type": "markdown",
   "metadata": {},
   "source": [
    "But if we've gone this far, we could have replaced the dynamics with almost anything.  For instance, with a simple change, we can use feedback cancellation to invert gravity!"
   ]
  },
  {
   "cell_type": "code",
   "execution_count": null,
   "metadata": {},
   "outputs": [],
   "source": [
    "simulate(gravity=9.8)"
   ]
  },
  {
   "cell_type": "code",
   "execution_count": null,
   "metadata": {},
   "outputs": [],
   "source": []
  }
 ],
 "metadata": {
  "colab": {
   "collapsed_sections": [],
   "name": "Underactuated Robotics - Introduction.ipynb",
   "provenance": [],
   "toc_visible": true
  },
  "kernelspec": {
   "display_name": "Python 3.6.9 64-bit",
   "language": "python",
   "name": "python3"
  },
  "language_info": {
   "codemirror_mode": {
    "name": "ipython",
    "version": 3
   },
   "file_extension": ".py",
   "mimetype": "text/x-python",
   "name": "python",
   "nbconvert_exporter": "python",
   "pygments_lexer": "ipython3",
   "version": "3.6.9"
  }
 },
 "nbformat": 4,
 "nbformat_minor": 1
}
